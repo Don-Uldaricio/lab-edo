{
 "cells": [
  {
   "cell_type": "code",
   "execution_count": 1,
   "metadata": {},
   "outputs": [],
   "source": [
    "import matplotlib.pyplot as plt\n",
    "import sympy as sp"
   ]
  },
  {
   "cell_type": "markdown",
   "metadata": {},
   "source": [
    "# Transformada de Laplace\n",
    "\n",
    "Si $f(t)$ es una función definida en $[0,\\infty[$ con $t$ y $f$ reales, entonces la transformada de Laplace de la función $f$ se denota por $\\mathcal{L}\\lbrace f(t) \\rbrace = F(s)$ y se define como la integral\n",
    "$$ \\mathcal{L}\\lbrace f(t) \\rbrace = F(s) = \\int_{0}^{\\infty} f(t) e^{-st} dt $$\n",
    "siempre que la anterior sea convergente."
   ]
  },
  {
   "cell_type": "markdown",
   "metadata": {},
   "source": [
    "### Definiendo variables simbólicas\n",
    "alternativa 1:\n"
   ]
  },
  {
   "cell_type": "code",
   "execution_count": 59,
   "metadata": {},
   "outputs": [],
   "source": [
    "t = sp.Symbol(\"t\",real=True,positive=True)\n",
    "s = sp.Symbol(\"s\",real=True)"
   ]
  },
  {
   "cell_type": "markdown",
   "metadata": {},
   "source": [
    "alternativa 2:"
   ]
  },
  {
   "cell_type": "code",
   "execution_count": 3,
   "metadata": {},
   "outputs": [
    {
     "data": {
      "text/plain": [
       "[t, s]"
      ]
     },
     "execution_count": 3,
     "metadata": {},
     "output_type": "execute_result"
    }
   ],
   "source": [
    "sp.symbols([\"t\",\"s\"])"
   ]
  },
  {
   "cell_type": "markdown",
   "metadata": {},
   "source": [
    "# Ejemplo 1\n",
    "\n",
    "Integrando de manera directa, calcular $\\mathcal{L}\\lbrace t^2 \\rbrace = \\displaystyle\\int_{0}^{\\infty} t^2 e^{-st } dt$"
   ]
  },
  {
   "cell_type": "code",
   "execution_count": 30,
   "metadata": {},
   "outputs": [
    {
     "data": {
      "text/latex": [
       "$\\displaystyle \\begin{cases} \\frac{2}{s^{3}} & \\text{for}\\: \\left|{\\arg{\\left(s \\right)}}\\right| < \\frac{\\pi}{2} \\\\\\int\\limits_{0}^{\\infty} t^{2} e^{- s t}\\, dt & \\text{otherwise} \\end{cases}$"
      ],
      "text/plain": [
       "Piecewise((2/s**3, Abs(arg(s)) < pi/2), (Integral(t**2*exp(-s*t), (t, 0, oo)), True))"
      ]
     },
     "execution_count": 30,
     "metadata": {},
     "output_type": "execute_result"
    }
   ],
   "source": [
    "sp.integrate(t**2*sp.exp(-s*t),(t,0,sp.oo))"
   ]
  },
  {
   "cell_type": "markdown",
   "metadata": {},
   "source": [
    "Sympy tiene una función llamada `laplace_transform` que hace esto de manera eficiente y que también retorna condiciones de convergencia de la integral."
   ]
  },
  {
   "cell_type": "markdown",
   "metadata": {},
   "source": [
    "# Ejemplo 2\n",
    "\n",
    "Calcular transformada de Laplace de $f(t)=t^2$"
   ]
  },
  {
   "cell_type": "code",
   "execution_count": 32,
   "metadata": {},
   "outputs": [
    {
     "data": {
      "text/latex": [
       "$\\displaystyle \\frac{2}{s^{3}}$"
      ],
      "text/plain": [
       "2/s**3"
      ]
     },
     "execution_count": 32,
     "metadata": {},
     "output_type": "execute_result"
    }
   ],
   "source": [
    "sp.laplace_transform(t**2,t,s,noconds=True)"
   ]
  },
  {
   "cell_type": "markdown",
   "metadata": {},
   "source": [
    "Si deseamos solo la función sin importar las condiciones de convergencia, agregamos `noconds=True`"
   ]
  },
  {
   "cell_type": "code",
   "execution_count": null,
   "metadata": {},
   "outputs": [],
   "source": []
  },
  {
   "cell_type": "markdown",
   "metadata": {},
   "source": [
    "# Ejemplo 3\n",
    "Calcular la transformada inversa de Laplace $F(s)= \\dfrac{2}{s^3}$"
   ]
  },
  {
   "cell_type": "code",
   "execution_count": 36,
   "metadata": {},
   "outputs": [
    {
     "data": {
      "text/latex": [
       "$\\displaystyle t^{2} \\theta\\left(t\\right)$"
      ],
      "text/plain": [
       "t**2*Heaviside(t)"
      ]
     },
     "execution_count": 36,
     "metadata": {},
     "output_type": "execute_result"
    }
   ],
   "source": [
    "sp.inverse_laplace_transform(2/s**3,s,t,noconds=True)"
   ]
  },
  {
   "cell_type": "markdown",
   "metadata": {},
   "source": [
    "# Ejemplo 4\n",
    "\n",
    "Calcular transformada de Laplace de $f(t)=e^{-\\alpha t}$ con $\\alpha \\in \\mathbb{R}^+$. Utilice su resultado para calcular su inversa."
   ]
  },
  {
   "cell_type": "code",
   "execution_count": 37,
   "metadata": {},
   "outputs": [],
   "source": [
    "a = sp.Symbol(\"a\",real=True) "
   ]
  },
  {
   "cell_type": "code",
   "execution_count": 40,
   "metadata": {},
   "outputs": [
    {
     "data": {
      "text/latex": [
       "$\\displaystyle \\frac{1}{a + s}$"
      ],
      "text/plain": [
       "1/(a + s)"
      ]
     },
     "execution_count": 40,
     "metadata": {},
     "output_type": "execute_result"
    }
   ],
   "source": [
    "sp.laplace_transform(sp.exp(-a*t),t,s,noconds=True)"
   ]
  },
  {
   "cell_type": "code",
   "execution_count": 41,
   "metadata": {},
   "outputs": [
    {
     "data": {
      "text/latex": [
       "$\\displaystyle e^{- a t} \\theta\\left(t\\right)$"
      ],
      "text/plain": [
       "exp(-a*t)*Heaviside(t)"
      ]
     },
     "execution_count": 41,
     "metadata": {},
     "output_type": "execute_result"
    }
   ],
   "source": [
    "sp.inverse_laplace_transform(1/(a+s),s,t,noconds=True)"
   ]
  },
  {
   "cell_type": "markdown",
   "metadata": {},
   "source": [
    "# Ejemplo 5\n",
    "\n",
    "Calcular la transformada de Laplace de \n",
    "$$ g(t) = e^{A t}(\\cos Bt + \\sin Ct), $$\n",
    "con $A,B,C$ variables reales y $A>0$."
   ]
  },
  {
   "cell_type": "code",
   "execution_count": 42,
   "metadata": {},
   "outputs": [],
   "source": [
    "A = sp.Symbol(\"A\",real=True,positive=True)\n",
    "B = sp.Symbol(\"B\",real=True)\n",
    "C = sp.Symbol(\"C\",real=True)"
   ]
  },
  {
   "cell_type": "code",
   "execution_count": 46,
   "metadata": {},
   "outputs": [
    {
     "data": {
      "text/latex": [
       "$\\displaystyle \\frac{C \\left(B^{2} + \\left(A - s\\right)^{2}\\right) + \\left(- A + s\\right) \\left(C^{2} + \\left(A - s\\right)^{2}\\right)}{\\left(B^{2} + \\left(A - s\\right)^{2}\\right) \\left(C^{2} + \\left(A - s\\right)^{2}\\right)}$"
      ],
      "text/plain": [
       "(C*(B**2 + (A - s)**2) + (-A + s)*(C**2 + (A - s)**2))/((B**2 + (A - s)**2)*(C**2 + (A - s)**2))"
      ]
     },
     "execution_count": 46,
     "metadata": {},
     "output_type": "execute_result"
    }
   ],
   "source": [
    "sp.laplace_transform(sp.exp(A*t)*(sp.cos(B*t)+sp.sin(C*t)),t,s,noconds=True)"
   ]
  },
  {
   "cell_type": "markdown",
   "metadata": {},
   "source": [
    "# Ejemplo 7\n",
    "\n",
    "Calcular la transformada de Laplace inversa de \n",
    "$$ H(s) = \\dfrac{(s+1)s}{(s+4)^2} $$"
   ]
  },
  {
   "cell_type": "code",
   "execution_count": 60,
   "metadata": {},
   "outputs": [
    {
     "data": {
      "text/latex": [
       "$\\displaystyle \\left(12 t - 7\\right) e^{- 4 t}$"
      ],
      "text/plain": [
       "(12*t - 7)*exp(-4*t)"
      ]
     },
     "execution_count": 60,
     "metadata": {},
     "output_type": "execute_result"
    }
   ],
   "source": [
    "sp.inverse_laplace_transform((s**2+s)/(s+4)**2,s,t,noconds=True)"
   ]
  },
  {
   "cell_type": "code",
   "execution_count": 66,
   "metadata": {},
   "outputs": [
    {
     "data": {
      "text/latex": [
       "$\\displaystyle - \\frac{7 s + 16}{s^{2} + 8 s + 16}$"
      ],
      "text/plain": [
       "-(7*s + 16)/(s**2 + 8*s + 16)"
      ]
     },
     "execution_count": 66,
     "metadata": {},
     "output_type": "execute_result"
    }
   ],
   "source": [
    "sp.laplace_transform((12*t-7)*sp.exp(-4*t),t,s,noconds=True)"
   ]
  },
  {
   "cell_type": "code",
   "execution_count": 68,
   "metadata": {},
   "outputs": [
    {
     "data": {
      "text/latex": [
       "$\\displaystyle \\begin{cases} - \\frac{7}{4 \\left(\\frac{s}{4} + 1\\right)} + \\frac{3}{4 \\left(\\frac{s}{4} + 1\\right)^{2}} & \\text{for}\\: \\left|{\\arg{\\left(s \\right)}}\\right| \\leq \\frac{\\pi}{2} \\\\\\int\\limits_{0}^{\\infty} \\left(12 t - 7\\right) e^{- 4 t} e^{- s t}\\, dt & \\text{otherwise} \\end{cases}$"
      ],
      "text/plain": [
       "Piecewise((-7/(4*(s/4 + 1)) + 3/(4*(s/4 + 1)**2), Abs(arg(s)) <= pi/2), (Integral((12*t - 7)*exp(-4*t)*exp(-s*t), (t, 0, oo)), True))"
      ]
     },
     "execution_count": 68,
     "metadata": {},
     "output_type": "execute_result"
    }
   ],
   "source": [
    "sp.integrate((12*t-7)*sp.exp(-4*t)*sp.exp(-s*t),(t,0,sp.oo))"
   ]
  },
  {
   "cell_type": "markdown",
   "metadata": {},
   "source": [
    "# Función de salto unitario o Heaviside\n",
    "\n",
    "Se define como\n",
    "$$ \\theta(t) = \\left\\lbrace\n",
    "\\begin{matrix}\n",
    "0 & si & t<0 \\\\\n",
    "1 & si & t\\geq 0\n",
    "\\end{matrix}\n",
    "\\right.\n",
    "$$\n",
    "\n",
    "o de manera alternativa\n",
    "\n",
    "$$ \\theta(t) = \\left\\lbrace\n",
    "\\begin{matrix}\n",
    "0 & si & t<0 \\\\\n",
    "\\frac{1}{2} & si & t= 0 \\\\\n",
    "1 & si & t>0\n",
    "\\end{matrix}\n",
    "\\right.\n",
    "$$"
   ]
  },
  {
   "cell_type": "code",
   "execution_count": 70,
   "metadata": {},
   "outputs": [],
   "source": [
    "def heaviside(t):\n",
    "    if t<0:\n",
    "        return 0\n",
    "    else:\n",
    "        return 1"
   ]
  },
  {
   "cell_type": "code",
   "execution_count": null,
   "metadata": {},
   "outputs": [],
   "source": []
  },
  {
   "cell_type": "markdown",
   "metadata": {},
   "source": [
    "# Ejemplo 8\n",
    "\n",
    "Calcular la transformada de Laplace de la función salto unitario. Replicar el cálculo con una traslación $\\theta(t-A)$. Realizar el gráfico.\n"
   ]
  },
  {
   "cell_type": "code",
   "execution_count": 72,
   "metadata": {},
   "outputs": [
    {
     "data": {
      "text/latex": [
       "$\\displaystyle \\frac{1}{s}$"
      ],
      "text/plain": [
       "1/s"
      ]
     },
     "execution_count": 72,
     "metadata": {},
     "output_type": "execute_result"
    }
   ],
   "source": [
    "sp.laplace_transform(sp.Heaviside(t),t,s,noconds=True)"
   ]
  },
  {
   "cell_type": "code",
   "execution_count": 73,
   "metadata": {},
   "outputs": [
    {
     "data": {
      "text/latex": [
       "$\\displaystyle \\frac{e^{- A s}}{s}$"
      ],
      "text/plain": [
       "exp(-A*s)/s"
      ]
     },
     "execution_count": 73,
     "metadata": {},
     "output_type": "execute_result"
    }
   ],
   "source": [
    "sp.laplace_transform(sp.Heaviside(t-A),t,s,noconds=True)"
   ]
  },
  {
   "cell_type": "code",
   "execution_count": null,
   "metadata": {},
   "outputs": [],
   "source": []
  },
  {
   "cell_type": "markdown",
   "metadata": {},
   "source": [
    "# Ejemplo 9\n",
    "\n",
    "Graficar la función\n",
    "$$f(t)= \\left\\lbrace\n",
    "\\begin{matrix}\n",
    "0 & si & t<2 \\\\\n",
    "t^3 & si & t\\geq 2\n",
    "\\end{matrix}\n",
    "\\right. $$\n",
    "\n",
    "y calcular su transformada de Laplace.\n"
   ]
  },
  {
   "cell_type": "code",
   "execution_count": 74,
   "metadata": {},
   "outputs": [
    {
     "ename": "NameError",
     "evalue": "name 'linspace' is not defined",
     "output_type": "error",
     "traceback": [
      "\u001b[0;31m---------------------------------------------------------------------------\u001b[0m",
      "\u001b[0;31mNameError\u001b[0m                                 Traceback (most recent call last)",
      "Input \u001b[0;32mIn [74]\u001b[0m, in \u001b[0;36m<cell line: 7>\u001b[0;34m()\u001b[0m\n\u001b[1;32m      4\u001b[0m     \u001b[38;5;28;01melse\u001b[39;00m:\n\u001b[1;32m      5\u001b[0m         \u001b[38;5;28;01mreturn\u001b[39;00m t\u001b[38;5;241m*\u001b[39m\u001b[38;5;241m*\u001b[39m\u001b[38;5;241m3\u001b[39m\n\u001b[0;32m----> 7\u001b[0m X,Y \u001b[38;5;241m=\u001b[39m \u001b[43mlinspace\u001b[49m()\n",
      "\u001b[0;31mNameError\u001b[0m: name 'linspace' is not defined"
     ]
    }
   ],
   "source": [
    "def f(t):\n",
    "    if t<2:\n",
    "        return 0\n",
    "    else:\n",
    "        return t**3\n",
    "\n",
    "X,Y = linspace()"
   ]
  },
  {
   "cell_type": "code",
   "execution_count": null,
   "metadata": {},
   "outputs": [],
   "source": []
  },
  {
   "cell_type": "markdown",
   "metadata": {},
   "source": [
    "# Ejemplo 10\n",
    "\n",
    "Calcular la transformada de Laplace de \n",
    "$$ g(t)= \\left\\lbrace\n",
    "\\begin{matrix}\n",
    "0 & si & t<1 \\\\\n",
    "t^2 & si & 1\\leq t \\leq 4 \\\\\n",
    "e^{-t} & si & t>4\n",
    "\\end{matrix}\n",
    "\\right. $$"
   ]
  },
  {
   "cell_type": "code",
   "execution_count": null,
   "metadata": {},
   "outputs": [],
   "source": []
  },
  {
   "cell_type": "code",
   "execution_count": null,
   "metadata": {},
   "outputs": [],
   "source": []
  },
  {
   "cell_type": "markdown",
   "metadata": {},
   "source": [
    "# Transformada de Laplace\n",
    "\n",
    "<b>Propiedad Lineal </b>: \n",
    "\n",
    "\n",
    "Para $\\alpha, \\beta \\in \\mathbb{R}$ y $f,g$ funciones\n",
    "\n",
    "$\\mathcal{L} \\lbrace \\alpha f(t) + \\beta g(t) \\rbrace = \\alpha \\mathcal{L}\\lbrace f(t) \\rbrace + \\beta \\mathcal{L}\\lbrace g(t) \\rbrace$\n",
    "\n",
    "<b>Transformada de derivada </b>:\n",
    "\n",
    "$\\mathcal{L}\\lbrace f^{(n)}(t) \\rbrace =s^n\\mathcal{L}\\lbrace f(t) \\rbrace - \\displaystyle\\sum_{i=1}^n s^{n-i} f^{i-1}(0) = s^n \\mathcal{L}\\lbrace f(t) \\rbrace - s^{(n-1)}f(0)-...-f^{(n-1)}(0)$"
   ]
  },
  {
   "cell_type": "markdown",
   "metadata": {},
   "source": [
    "# Ejemplo 11 \n",
    "\n",
    "Utilizando transformada de Laplace, resolver el PVI\n",
    "\n",
    "$$ y'' + 3y'+3 = e^t $$\n",
    "\n",
    "con condiciones iniciales $y(0)=1, y'(0)=2$."
   ]
  },
  {
   "cell_type": "code",
   "execution_count": null,
   "metadata": {},
   "outputs": [],
   "source": []
  },
  {
   "cell_type": "code",
   "execution_count": null,
   "metadata": {},
   "outputs": [],
   "source": []
  },
  {
   "cell_type": "code",
   "execution_count": null,
   "metadata": {},
   "outputs": [],
   "source": []
  },
  {
   "cell_type": "code",
   "execution_count": null,
   "metadata": {},
   "outputs": [],
   "source": []
  },
  {
   "cell_type": "code",
   "execution_count": null,
   "metadata": {},
   "outputs": [],
   "source": []
  },
  {
   "cell_type": "markdown",
   "metadata": {},
   "source": [
    "# Ejemplo 12\n",
    "\n",
    "Resolver el PVI\n",
    "$$ y''' = f(t),  $$\n",
    "con condiciones iniciales $y''(0)=y'(0)=1, y(0)=0$, donde $f$ está definida por\n",
    "\n",
    "$$\n",
    "f(t) = \\left\\lbrace\n",
    "\\begin{matrix}\n",
    "2 & si & t<3 \\\\\n",
    "t+1 & si & 3 \\leq t \\leq 4 \\\\\n",
    "0 & si & t>4\n",
    "\\end{matrix}\n",
    "\\right.\n",
    "$$"
   ]
  },
  {
   "cell_type": "code",
   "execution_count": null,
   "metadata": {},
   "outputs": [],
   "source": []
  },
  {
   "cell_type": "code",
   "execution_count": null,
   "metadata": {},
   "outputs": [],
   "source": []
  },
  {
   "cell_type": "code",
   "execution_count": null,
   "metadata": {},
   "outputs": [],
   "source": []
  },
  {
   "cell_type": "code",
   "execution_count": null,
   "metadata": {},
   "outputs": [],
   "source": []
  },
  {
   "cell_type": "code",
   "execution_count": null,
   "metadata": {},
   "outputs": [],
   "source": []
  },
  {
   "cell_type": "code",
   "execution_count": null,
   "metadata": {},
   "outputs": [],
   "source": []
  },
  {
   "cell_type": "code",
   "execution_count": null,
   "metadata": {},
   "outputs": [],
   "source": []
  },
  {
   "cell_type": "code",
   "execution_count": null,
   "metadata": {},
   "outputs": [],
   "source": []
  }
 ],
 "metadata": {
  "kernelspec": {
   "display_name": "Python 3 (ipykernel)",
   "language": "python",
   "name": "python3"
  },
  "language_info": {
   "codemirror_mode": {
    "name": "ipython",
    "version": 3
   },
   "file_extension": ".py",
   "mimetype": "text/x-python",
   "name": "python",
   "nbconvert_exporter": "python",
   "pygments_lexer": "ipython3",
   "version": "3.10.6"
  }
 },
 "nbformat": 4,
 "nbformat_minor": 4
}
