{
 "cells": [
  {
   "cell_type": "markdown",
   "metadata": {},
   "source": [
    "# Recuerdos fundamentales Numpy.\n",
    "\n",
    "A lo largo de este curso se utilizaran diferentes algortimos para encontrar (por ejemplo) aproximaciones de soluciones de ecuaciones diferenciales o sistemas de ecuaciones no lineales. Estos algoritmos requieren el manejo básico arreglos y por tanto el uso de la librería NumPy es fundamental. En esta clase inicial, repasaremos las nociones fundamentales de dicha librería y utilizaremos algunos comandos básicos."
   ]
  },
  {
   "cell_type": "markdown",
   "metadata": {},
   "source": [
    "El objeto `ndarray` (N-dimensional array) es el objeto principal para representar arreglos de datos. Este objeto puede manejar arreglos multidimensionales de cualquier tamaño (restringido a la memoria del ordenador). \n",
    "\n",
    "* Un `ndarray` tiene un tamaño fijo. Para modificar su tamaño hay que crear un nuevo arreglo. \n",
    "* Un `ndarray` permite operaciones \"elemento por elemento\"\n"
   ]
  },
  {
   "cell_type": "code",
   "execution_count": 1,
   "metadata": {
    "scrolled": true
   },
   "outputs": [],
   "source": [
    "import numpy as np #esto significa que abreviamos numpy por np"
   ]
  },
  {
   "cell_type": "code",
   "execution_count": null,
   "metadata": {
    "scrolled": true
   },
   "outputs": [],
   "source": [
    "# Creamos un arreglo \n",
    "arr = np.array([1,2,3])\n",
    "# Arreglos especiales\n",
    "a = [1,2,3] #listas\n",
    "b = [1,1,1]\n",
    "c = np.array([1,1,1])"
   ]
  },
  {
   "cell_type": "code",
   "execution_count": null,
   "metadata": {},
   "outputs": [],
   "source": [
    "arr"
   ]
  },
  {
   "cell_type": "code",
   "execution_count": null,
   "metadata": {},
   "outputs": [],
   "source": [
    "a+c"
   ]
  },
  {
   "cell_type": "code",
   "execution_count": null,
   "metadata": {
    "scrolled": true
   },
   "outputs": [],
   "source": [
    "a + b"
   ]
  },
  {
   "cell_type": "code",
   "execution_count": null,
   "metadata": {
    "scrolled": true
   },
   "outputs": [],
   "source": [
    "arr + c"
   ]
  },
  {
   "cell_type": "code",
   "execution_count": null,
   "metadata": {},
   "outputs": [],
   "source": [
    "a"
   ]
  },
  {
   "cell_type": "code",
   "execution_count": null,
   "metadata": {},
   "outputs": [],
   "source": [
    "arr + a"
   ]
  },
  {
   "cell_type": "markdown",
   "metadata": {},
   "source": [
    "Algunas de las propiedades de un arreglo se pueden obtener con las siguientes funciones:"
   ]
  },
  {
   "cell_type": "code",
   "execution_count": null,
   "metadata": {},
   "outputs": [],
   "source": [
    "print(arr.shape) #entrega cantidad de dimensiones y de elementos en ellas,\n",
    "print(arr.ndim) #numero de dimensiones de un arreglo\n",
    "print(arr.size) #cantidad de entradas que tiene el arreglo"
   ]
  },
  {
   "cell_type": "code",
   "execution_count": null,
   "metadata": {},
   "outputs": [],
   "source": [
    "q = np.array([[1,2],[3,4],[1,3]])\n",
    "q\n",
    "r = np.array([1,2,3])"
   ]
  },
  {
   "cell_type": "code",
   "execution_count": null,
   "metadata": {},
   "outputs": [],
   "source": [
    "q"
   ]
  },
  {
   "cell_type": "code",
   "execution_count": null,
   "metadata": {},
   "outputs": [],
   "source": [
    "q.size"
   ]
  },
  {
   "cell_type": "code",
   "execution_count": null,
   "metadata": {},
   "outputs": [],
   "source": [
    "q.shape"
   ]
  },
  {
   "cell_type": "code",
   "execution_count": null,
   "metadata": {},
   "outputs": [],
   "source": [
    "q.ndim"
   ]
  },
  {
   "cell_type": "code",
   "execution_count": null,
   "metadata": {},
   "outputs": [],
   "source": [
    "r.ndim"
   ]
  },
  {
   "cell_type": "markdown",
   "metadata": {},
   "source": [
    "## Arreglos especiales:"
   ]
  },
  {
   "cell_type": "code",
   "execution_count": null,
   "metadata": {
    "scrolled": true
   },
   "outputs": [],
   "source": [
    "# Creamos un arreglo lleno de ceros.\n",
    "t=np.zeros((4, 10))\n",
    "t"
   ]
  },
  {
   "cell_type": "code",
   "execution_count": null,
   "metadata": {
    "scrolled": true
   },
   "outputs": [],
   "source": [
    "# Creamos un arreglo lleno de 1's\n",
    "np.ones((2,10))"
   ]
  },
  {
   "cell_type": "code",
   "execution_count": null,
   "metadata": {
    "scrolled": true
   },
   "outputs": [],
   "source": [
    "# arreglo lleno de una constante\n",
    "np.full((3,10), 3.14)"
   ]
  },
  {
   "cell_type": "code",
   "execution_count": null,
   "metadata": {
    "scrolled": true
   },
   "outputs": [],
   "source": [
    "# arreglo vacio\n",
    "np.empty(11) #lo genera con basura"
   ]
  },
  {
   "cell_type": "code",
   "execution_count": null,
   "metadata": {
    "scrolled": true
   },
   "outputs": [],
   "source": [
    "#arreglo aleatorio de números enteros entre el 0 y 9\n",
    "np.random.randint(0,10,100) #(valor inicial, valor final+1, tamaño)"
   ]
  },
  {
   "cell_type": "code",
   "execution_count": null,
   "metadata": {
    "scrolled": true
   },
   "outputs": [],
   "source": [
    "# arreglo con números desde el 5 al 30 con saltos de a 3\n",
    "np.arange(5,30,3)"
   ]
  },
  {
   "cell_type": "code",
   "execution_count": null,
   "metadata": {
    "scrolled": true
   },
   "outputs": [],
   "source": [
    "#arreglo equiespaciado de 0 a 1 con 11 puntos\n",
    "np.linspace(0,1,11)"
   ]
  },
  {
   "cell_type": "markdown",
   "metadata": {},
   "source": [
    "## Operaciones\n",
    "\n",
    "Podemos usar las operaciones comunes. Ojo que se hacen término a término"
   ]
  },
  {
   "cell_type": "code",
   "execution_count": null,
   "metadata": {
    "scrolled": true
   },
   "outputs": [],
   "source": [
    "a = np.array([1,2,3])\n",
    "b = np.array([1,-1,2])\n",
    "print(a+b)\n",
    "print(a-b)\n",
    "print(a*b)\n",
    "print(a/b)"
   ]
  },
  {
   "cell_type": "code",
   "execution_count": null,
   "metadata": {},
   "outputs": [],
   "source": [
    "print(np.exp(a))\n",
    "print(np.sqrt(a))\n",
    "print(np.sin(b))\n",
    "print(np.log(a))"
   ]
  },
  {
   "cell_type": "markdown",
   "metadata": {},
   "source": [
    "## Recorrer Arreglos\n",
    "\n",
    "Para recorrer un arreglo podemos usar los siguientes programas que son equivalentes:"
   ]
  },
  {
   "cell_type": "code",
   "execution_count": null,
   "metadata": {
    "scrolled": true
   },
   "outputs": [],
   "source": [
    "arr=np.array([1,2,4,6,7,8,9,98,76,98, 65])"
   ]
  },
  {
   "cell_type": "code",
   "execution_count": null,
   "metadata": {},
   "outputs": [],
   "source": [
    "arr[-2]"
   ]
  },
  {
   "cell_type": "code",
   "execution_count": null,
   "metadata": {},
   "outputs": [],
   "source": [
    "arr[9]"
   ]
  },
  {
   "cell_type": "code",
   "execution_count": null,
   "metadata": {},
   "outputs": [],
   "source": [
    "arr[0]"
   ]
  },
  {
   "cell_type": "code",
   "execution_count": null,
   "metadata": {},
   "outputs": [],
   "source": [
    "np.size(arr)"
   ]
  },
  {
   "cell_type": "code",
   "execution_count": null,
   "metadata": {},
   "outputs": [],
   "source": [
    "for i in np.arange(np.size(arr)):\n",
    "    print(arr[-1-i])"
   ]
  },
  {
   "cell_type": "code",
   "execution_count": null,
   "metadata": {},
   "outputs": [],
   "source": [
    "w = ['hola', 'mundo', 'chao']\n",
    "len(w) #entrega número de items en una lista"
   ]
  },
  {
   "cell_type": "code",
   "execution_count": null,
   "metadata": {},
   "outputs": [],
   "source": [
    "len(arr)"
   ]
  },
  {
   "cell_type": "code",
   "execution_count": null,
   "metadata": {
    "scrolled": true
   },
   "outputs": [],
   "source": [
    "for i in arr:\n",
    "    print(i)"
   ]
  },
  {
   "cell_type": "markdown",
   "metadata": {},
   "source": [
    "## Algoritmos en arreglos\n",
    "\n",
    "Vamos a implementar un par de algoritmos en arreglos.\n",
    "\n",
    "Dado un arreglo `a` diremos que la posición `k` es un \"peak\" si `a[k-1]` $\\leq$ `a[k]` y `a[k+1]` $\\leq$ `a[k]`.\n",
    "\n",
    "Problema: Dado un arreglo `a` encontrar un peak de `a`\n"
   ]
  },
  {
   "cell_type": "markdown",
   "metadata": {},
   "source": [
    "Buscaremos un peak del arreglo a, considerando que los extremos del arreglo no tienen vecinos."
   ]
  },
  {
   "cell_type": "code",
   "execution_count": null,
   "metadata": {},
   "outputs": [],
   "source": [
    "#Primera idea: Recorrer el arreglo y verificar si es un peak\n",
    "a = np.array([5,2,3,2,3,2,3,4])\n",
    "\n",
    "def buscar_peak(a):\n",
    "    for i in np.arange(1,len(a)-1):# recorrer el arreglo\n",
    "        if a[i] >= a[i-1] and a[i] >= a[i+1]:#verificar si es un peak\n",
    "            print('La posición', i, ' es un peak')\n",
    "           \n",
    "buscar_peak(a)"
   ]
  },
  {
   "cell_type": "code",
   "execution_count": null,
   "metadata": {},
   "outputs": [],
   "source": [
    "b = np.random.randint(0,100,1000)\n",
    "print(b)\n",
    "buscar_peak(b)"
   ]
  },
  {
   "cell_type": "markdown",
   "metadata": {},
   "source": [
    "Matrices  en Numpy\n",
    "===================\n"
   ]
  },
  {
   "cell_type": "code",
   "execution_count": null,
   "metadata": {},
   "outputs": [],
   "source": [
    "#Creamos una matriz de 2x3:\n",
    "A = np.array([[1, 2, 3], [3, 4, 5]])\n",
    "print(A)"
   ]
  },
  {
   "cell_type": "code",
   "execution_count": null,
   "metadata": {},
   "outputs": [],
   "source": [
    "print(A.shape)\n",
    "print(A.ndim)\n",
    "print(A.size)\n",
    "print(len(A))"
   ]
  },
  {
   "cell_type": "markdown",
   "metadata": {},
   "source": [
    " ## Acceder a los elementos de la matriz:\n"
   ]
  },
  {
   "cell_type": "code",
   "execution_count": null,
   "metadata": {},
   "outputs": [],
   "source": [
    "#Tercer elemento de la segunda fila:\n",
    "print(A[1,2])"
   ]
  },
  {
   "cell_type": "code",
   "execution_count": null,
   "metadata": {},
   "outputs": [],
   "source": [
    "#Último elemento de la primera fila\n",
    "A[0,-1]"
   ]
  },
  {
   "cell_type": "code",
   "execution_count": null,
   "metadata": {},
   "outputs": [],
   "source": [
    "A[1][2]"
   ]
  },
  {
   "cell_type": "code",
   "execution_count": null,
   "metadata": {},
   "outputs": [],
   "source": [
    "#Primera fila:\n",
    "A[0]"
   ]
  },
  {
   "cell_type": "code",
   "execution_count": null,
   "metadata": {},
   "outputs": [],
   "source": [
    "#matrices como arreglos de arreglos\n",
    "for x in A: \n",
    "    print(x)"
   ]
  },
  {
   "cell_type": "code",
   "execution_count": null,
   "metadata": {},
   "outputs": [],
   "source": [
    "# Podemos recorrer la matriz de la siguiente manera:\n",
    "for x in A:\n",
    "    for y in x: \n",
    "        print(y)       "
   ]
  },
  {
   "cell_type": "code",
   "execution_count": null,
   "metadata": {},
   "outputs": [],
   "source": [
    "# otra forma, usando indices es:\n",
    "for j in range(3):\n",
    "    for i in range(2):\n",
    "        print(A[i,j])"
   ]
  },
  {
   "cell_type": "code",
   "execution_count": null,
   "metadata": {},
   "outputs": [],
   "source": [
    "# otra forma, usando indices es:\n",
    "for i in range(2):\n",
    "    for j in range(3):\n",
    "        print(A[i,j])"
   ]
  },
  {
   "cell_type": "code",
   "execution_count": null,
   "metadata": {
    "jupyter": {
     "outputs_hidden": true
    },
    "tags": []
   },
   "outputs": [],
   "source": [
    "for i in range(2):\n",
    "    print(A[i,1])"
   ]
  },
  {
   "cell_type": "markdown",
   "metadata": {},
   "source": [
    "## Extraer y utilizar partes de un arreglo:\n"
   ]
  },
  {
   "cell_type": "code",
   "execution_count": null,
   "metadata": {},
   "outputs": [],
   "source": [
    "import matplotlib.pyplot as plt\n",
    "import matplotlib\n",
    "%matplotlib inline\n",
    "from PIL import Image"
   ]
  },
  {
   "cell_type": "markdown",
   "metadata": {},
   "source": [
    "Existe una notación para extraer pedazos de arreglos en numpy que se conoce como indexado o \"slicing\"\n",
    "\n",
    "![image](https://claudiovz.github.io/scipy-lecture-notes-ES/_images/numpy_indexing.png)\n",
    "\n"
   ]
  },
  {
   "cell_type": "code",
   "execution_count": null,
   "metadata": {},
   "outputs": [],
   "source": [
    "#Creamos una matriz de 2x3:\n",
    "A = np.array([[1, 2, 3], [3, 4, 5]])\n",
    "print(A)"
   ]
  },
  {
   "cell_type": "code",
   "execution_count": null,
   "metadata": {},
   "outputs": [],
   "source": [
    "#Ultima columna\n",
    "A[:,2]"
   ]
  },
  {
   "cell_type": "code",
   "execution_count": null,
   "metadata": {},
   "outputs": [],
   "source": [
    "A[:,:2]"
   ]
  },
  {
   "cell_type": "markdown",
   "metadata": {},
   "source": [
    "# Gráficos en Python\n",
    "\n",
    "En ocasiones, debido a que ciertas ecuaciones diferenciales no poseen soluciones explícitas, es necesario realizar un análisis cualitativo de las soluciones, es decir, interpretar de manera gráfica algunos resultados. Por medio del estudio de la gráfica de la familia de soluciones podemos entender el comportamiento de las soluciones y poder usarlas para describir fenómenos, sin\n",
    "necesidad de utilizar alguna técnica de resolución para determinar la solución general de la EDO.\n",
    "\n",
    "Para graficar funciones de una variable, utilizamos la librería `matplotlib.pyplot` cuya documentación completa se puede encontrar en el enlace\n",
    "* https://matplotlib.org/stable/api/_as_gen/matplotlib.pyplot.html"
   ]
  },
  {
   "cell_type": "markdown",
   "metadata": {},
   "source": [
    "Para realizar un gráfico en 2D utilizamos la función `plt.plot()`, cuyos argumentos principales corresponden una lista o arreglo de valores asociados al dominio de la función y la función a graficar."
   ]
  },
  {
   "cell_type": "code",
   "execution_count": 2,
   "metadata": {},
   "outputs": [],
   "source": [
    "import matplotlib.pyplot as plt\n",
    "%matplotlib inline"
   ]
  },
  {
   "cell_type": "markdown",
   "metadata": {},
   "source": [
    "Podemos hacerlo de esta forma:"
   ]
  },
  {
   "cell_type": "code",
   "execution_count": 6,
   "metadata": {},
   "outputs": [
    {
     "data": {
      "text/plain": [
       "[<matplotlib.lines.Line2D at 0x238187c2f10>]"
      ]
     },
     "execution_count": 6,
     "metadata": {},
     "output_type": "execute_result"
    },
    {
     "data": {
      "image/png": "[encoded data removed]",
      "text/plain": [
       "<Figure size 432x288 with 1 Axes>"
      ]
     },
     "metadata": {
      "needs_background": "light"
     },
     "output_type": "display_data"
    }
   ],
   "source": [
    "x=np.arange(-3.14,3.14,0.1)\n",
    "y=np.sin(x)\n",
    "\n",
    "plt.plot(x,y)  # Lineas por defecto, se puede usar \"x\" o \"o\" entre otros."
   ]
  },
  {
   "cell_type": "markdown",
   "metadata": {},
   "source": [
    "O de esta otra forma:"
   ]
  },
  {
   "cell_type": "code",
   "execution_count": 7,
   "metadata": {},
   "outputs": [
    {
     "data": {
      "text/plain": [
       "[<matplotlib.lines.Line2D at 0x23818bdda30>]"
      ]
     },
     "execution_count": 7,
     "metadata": {},
     "output_type": "execute_result"
    },
    {
     "data": {
      "image/png": "[encoded data removed]",
      "text/plain": [
       "<Figure size 432x288 with 1 Axes>"
      ]
     },
     "metadata": {
      "needs_background": "light"
     },
     "output_type": "display_data"
    }
   ],
   "source": [
    "x = np.linspace(0,20,100)\n",
    "y = np.sin(x)\n",
    "\n",
    "plt.plot(x,y)"
   ]
  },
  {
   "cell_type": "markdown",
   "metadata": {},
   "source": [
    "Notamos que mientras la partición en x sea más fina, la curva es cada vez mas suave.\n",
    "\n",
    "Es posible graficar más de una función en un mismo gráfico:"
   ]
  },
  {
   "cell_type": "code",
   "execution_count": 8,
   "metadata": {},
   "outputs": [
    {
     "data": {
      "text/plain": [
       "[<matplotlib.lines.Line2D at 0x2381941b640>]"
      ]
     },
     "execution_count": 8,
     "metadata": {},
     "output_type": "execute_result"
    },
    {
     "data": {
      "image/png": "[encoded data removed]",
      "text/plain": [
       "<Figure size 432x288 with 1 Axes>"
      ]
     },
     "metadata": {
      "needs_background": "light"
     },
     "output_type": "display_data"
    }
   ],
   "source": [
    "from math import pi # para que reconozca la constante pi\n",
    "\n",
    "x=np.linspace(-2*pi,2*pi,100) \n",
    "y=np.cos(x)\n",
    "f=np.exp(-x**2)\n",
    "\n",
    "plt.plot(x,y)\n",
    "plt.plot(x,f)"
   ]
  },
  {
   "cell_type": "markdown",
   "metadata": {},
   "source": [
    "La presentación de las curvas en cuanto a color, grosor, forma, etc son presentados siempre por defecto de la misma manera.\n",
    "Si se desea personalizar el gráfico es posible utlizar algunas de las siguientes funciones:\n",
    "* `linewidth`: Personaliza el grosor de la línea.\n",
    "* `linestyle`: Personaliza el estilo de línea. El formato debe ser ingresado en cremillas, algunos formatos soportados son\n",
    "        * '-' o 'solid': formato por defecto.\n",
    "        * '--' o 'dashed': formato por líneas.\n",
    "        * '-.' o 'dashdot': formato línea punto.\n",
    "        * ' ' o 'none': formato ¿absurdo?\n",
    "        * ':' o 'dotted': formato de puntos.\n",
    "* `color`: Personaliza el color de la curva en formato (R,G,B) o bien con nombre directo. Una buena página para seleccionar colores es https://matplotlib.org/stable/gallery/color/named_colors.html"
   ]
  },
  {
   "cell_type": "code",
   "execution_count": 9,
   "metadata": {},
   "outputs": [
    {
     "data": {
      "image/png": "[encoded data removed]",
      "text/plain": [
       "<Figure size 432x288 with 1 Axes>"
      ]
     },
     "metadata": {
      "needs_background": "light"
     },
     "output_type": "display_data"
    }
   ],
   "source": [
    "x = np.linspace(0,10,50)\n",
    "y = np.sin(3*x)\n",
    "\n",
    "plt.xlabel('variable independiente') #etiqueta eje x\n",
    "plt.ylabel('velocidad del auto') #etiqueta eje y\n",
    "plt.plot(x, y,linewidth=3, linestyle=':', color=(0.4, 0.1 ,0.9), label='función seno' )\n",
    "plt.grid()\n",
    "plt.legend()\n",
    "plt.show()"
   ]
  },
  {
   "cell_type": "code",
   "execution_count": 16,
   "metadata": {},
   "outputs": [
    {
     "name": "stderr",
     "output_type": "stream",
     "text": [
      "C:\\Users\\Eduardo\\AppData\\Local\\Temp\\ipykernel_5336\\2789921125.py:1: RuntimeWarning: divide by zero encountered in log\n",
      "  f=np.log(x)\n"
     ]
    },
    {
     "data": {
      "text/plain": [
       "[<matplotlib.lines.Line2D at 0x2381d2f9400>]"
      ]
     },
     "execution_count": 16,
     "metadata": {},
     "output_type": "execute_result"
    },
    {
     "data": {
      "image/png": "[encoded data removed]",
      "text/plain": [
       "<Figure size 432x288 with 1 Axes>"
      ]
     },
     "metadata": {
      "needs_background": "light"
     },
     "output_type": "display_data"
    }
   ],
   "source": [
    "f=np.log(x)\n",
    "plt.plot(x,y, linewidth=4, linestyle=':', color=(1, 0.5 ,0.5))\n",
    "plt.plot(x,f, linewidth=2, linestyle='-', color='lime')"
   ]
  },
  {
   "cell_type": "markdown",
   "metadata": {},
   "source": [
    "En adición, es posible utilizar las siguientes funciones:\n",
    "* `plt.xlabel(' ')`: Añade etiqueta al eje de variables independientes.\n",
    "* `plt.ylabel(' ')`: Añade etiqueta al eje de varibles dependientes.\n",
    "* `plt.grid()`: Agrega una grilla (o red) al gráfico.\n",
    "* `plt.title('<titulo>')`: Agrega un título al gráfico. \n",
    "* `plt.xlim([<lim inferior>, <lim superior>])`: Margen de visualización variable independiente\n",
    "* `plt.ylim([<lim inferior>, <lim superior>])`: Margen de visualización variable dependiente\n",
    "* `plt.legend()`: Agrega una leyenda al gráfico. Para ello es necesario agregar con anterioridad una etiqueta a cada función, vía `label`, por ejemplo `plt.plot(x,y, label='función')`\n"
   ]
  },
  {
   "cell_type": "markdown",
   "metadata": {},
   "source": [
    "## Ejemplo 1\n",
    "\n",
    "Graficar las funciones $f(t)= t\\sin\\left(\\frac{1}{t^2+1}\\right)$ y $g(t)=\\ln(t^2+1)$ con las siguientes consideraciones:\n",
    "   * f con grosor 3, línea continua, en color azul (a elección), etiqueta \"f(t)\".\n",
    "   * g con grosor 4, línea punteada, en color naranjo (a elección), etiqueta \"ln(t^2)\".\n",
    "   * gráfico de las funciones sobre la región $[0, 2\\pi]\\times[-2,2]$\n",
    "   * gráfico con grilla, título \"Mi primer gráfico\" y con cuadro de leyendas.\n",
    "   * Etiquetas t e y respectivamente."
   ]
  },
  {
   "cell_type": "code",
   "execution_count": 17,
   "metadata": {},
   "outputs": [
    {
     "data": {
      "text/plain": [
       "<matplotlib.legend.Legend at 0x2381d354df0>"
      ]
     },
     "execution_count": 17,
     "metadata": {},
     "output_type": "execute_result"
    },
    {
     "data": {
      "image/png": "[encoded data removed]",
      "text/plain": [
       "<Figure size 432x288 with 1 Axes>"
      ]
     },
     "metadata": {
      "needs_background": "light"
     },
     "output_type": "display_data"
    }
   ],
   "source": [
    "t=np.linspace(0, 2*pi, 200)\n",
    "f=t*np.sin((1/(t**2+1)))\n",
    "g=np.log(t**2+1)\n",
    "\n",
    "plt.plot(t, f, linewidth=3, color='aqua', label='f(t)')\n",
    "plt.plot(t, g, linewidth=4, linestyle=':', color='darkorange', label='ln(t^2)')\n",
    "\n",
    "plt.xlim([0,2*pi])\n",
    "plt.ylim([-2,2])\n",
    "\n",
    "plt.grid()\n",
    "plt.title('Mi primer gráfico')\n",
    "plt.xlabel('t')\n",
    "plt.ylabel('y')\n",
    "plt.legend()"
   ]
  },
  {
   "cell_type": "markdown",
   "metadata": {},
   "source": [
    "## Ejercicios:\n",
    "\n",
    "a) Defina un arreglo de dos filas y dos columnas."
   ]
  },
  {
   "cell_type": "code",
   "execution_count": null,
   "metadata": {},
   "outputs": [],
   "source": []
  },
  {
   "cell_type": "markdown",
   "metadata": {},
   "source": [
    "b) Calcule la suma de los elementos de su arreglo."
   ]
  },
  {
   "cell_type": "code",
   "execution_count": null,
   "metadata": {},
   "outputs": [],
   "source": []
  },
  {
   "cell_type": "markdown",
   "metadata": {},
   "source": [
    "c) Calcule el promedio de los elementos de su arreglo."
   ]
  },
  {
   "cell_type": "code",
   "execution_count": null,
   "metadata": {},
   "outputs": [],
   "source": []
  },
  {
   "cell_type": "markdown",
   "metadata": {},
   "source": [
    "d) Determine la cantidad de elementos de su arreglo que son menores que 6."
   ]
  },
  {
   "cell_type": "code",
   "execution_count": null,
   "metadata": {},
   "outputs": [],
   "source": []
  },
  {
   "cell_type": "markdown",
   "metadata": {},
   "source": [
    "e) Determine el valor y posición del elemento más grande de su arreglo."
   ]
  },
  {
   "cell_type": "code",
   "execution_count": null,
   "metadata": {},
   "outputs": [],
   "source": []
  },
  {
   "cell_type": "markdown",
   "metadata": {},
   "source": [
    "f) Determine el valor y posición del elemento más pequeño de su arreglo."
   ]
  },
  {
   "cell_type": "code",
   "execution_count": null,
   "metadata": {},
   "outputs": [],
   "source": []
  },
  {
   "cell_type": "markdown",
   "metadata": {},
   "source": [
    "g) Determine el elemento que más se repite en su arreglo. "
   ]
  },
  {
   "cell_type": "code",
   "execution_count": null,
   "metadata": {},
   "outputs": [],
   "source": []
  },
  {
   "cell_type": "markdown",
   "metadata": {},
   "source": [
    "Para los siguientes ejercicios haremos uso de una matriz aleatoria:"
   ]
  },
  {
   "cell_type": "code",
   "execution_count": null,
   "metadata": {},
   "outputs": [],
   "source": [
    "# comando: np.random.randint(maxValor, size=(rows, columns))\n",
    "np.random.seed(1)\n",
    "B = np.random.randint(100, size=(10, 10))\n",
    "B"
   ]
  },
  {
   "cell_type": "markdown",
   "metadata": {},
   "source": [
    "h) Calcule la suma de los elementos de B"
   ]
  },
  {
   "cell_type": "code",
   "execution_count": null,
   "metadata": {},
   "outputs": [],
   "source": []
  },
  {
   "cell_type": "markdown",
   "metadata": {},
   "source": [
    "i) Calcule la suma de elementos de la fila 3 "
   ]
  },
  {
   "cell_type": "code",
   "execution_count": null,
   "metadata": {},
   "outputs": [],
   "source": []
  },
  {
   "cell_type": "markdown",
   "metadata": {},
   "source": [
    "j) Calcule la suma de elementos de la columna 3 "
   ]
  },
  {
   "cell_type": "code",
   "execution_count": null,
   "metadata": {},
   "outputs": [],
   "source": []
  },
  {
   "cell_type": "markdown",
   "metadata": {},
   "source": [
    "k) ¿Cuál es la fila con la mayor suma? ¿Cuál es la coumna con la mayor suma? "
   ]
  },
  {
   "cell_type": "code",
   "execution_count": null,
   "metadata": {},
   "outputs": [],
   "source": []
  },
  {
   "cell_type": "markdown",
   "metadata": {},
   "source": [
    "l) Diremos que una matriz es mágica si la suma los elementos de sus columnas y las filas es el mismo. Escriba un programa que reciba una matriz de 10 por 10 y retorne True si es mágica y False en otro caso."
   ]
  },
  {
   "cell_type": "code",
   "execution_count": null,
   "metadata": {},
   "outputs": [],
   "source": []
  },
  {
   "cell_type": "markdown",
   "metadata": {},
   "source": [
    "m) Diremos que una matriz es antimágica si la suma los elementos de sus columnas y las filas son todas distintas. Escriba un programa que reciba una matriz de 10 por 10 y retorne True si es antimágica y False en otro caso."
   ]
  },
  {
   "cell_type": "code",
   "execution_count": null,
   "metadata": {},
   "outputs": [],
   "source": []
  },
  {
   "cell_type": "markdown",
   "metadata": {},
   "source": [
    "n) Diremos que una matriz es diagonal si para todo  $i \\neq j$ el elemento en la posición (i,j) es cero. Escriba un programa que reciba una matriz de 10 por 10 y retorne True si es diagonal y False en otro caso."
   ]
  },
  {
   "cell_type": "code",
   "execution_count": null,
   "metadata": {},
   "outputs": [],
   "source": []
  },
  {
   "cell_type": "markdown",
   "metadata": {},
   "source": [
    "o) Diremos que una matriz es densa si al menos un 85% de sus coeficientes es distinto de 0. Escriba un programa que reciba una matriz de 10 por 10 y retorne True si es densa y False en otro caso."
   ]
  },
  {
   "cell_type": "code",
   "execution_count": null,
   "metadata": {},
   "outputs": [],
   "source": []
  },
  {
   "cell_type": "markdown",
   "metadata": {},
   "source": [
    "p) Graficar las funciones $f(t)= t^3 \\cos\\left(\\frac{t}{t^2-1}\\right)$ y $g(t)=e^{t+3}$ con las siguientes consideraciones:\n",
    "   * f con grosor 8, línea continua, en color verde (a elección), etiqueta \"f(t)\".\n",
    "   * g con grosor 6, línea punteada, en color rojo (a elección), etiqueta \"g(t)\".\n",
    "   * gráfico de las funciones sobre la región $[-3\\pi, 3\\pi]\\times[-6,6]$\n",
    "   * gráfico con grilla, título \"Mi segundo gráfico\" y con cuadro de leyendas.\n",
    "   * Etiquetas t e y respectivamente."
   ]
  },
  {
   "cell_type": "code",
   "execution_count": null,
   "metadata": {},
   "outputs": [],
   "source": []
  }
 ],
 "metadata": {
  "kernelspec": {
   "display_name": "Python 3 (ipykernel)",
   "language": "python",
   "name": "python3"
  },
  "language_info": {
   "codemirror_mode": {
    "name": "ipython",
    "version": 3
   },
   "file_extension": ".py",
   "mimetype": "text/x-python",
   "name": "python",
   "nbconvert_exporter": "python",
   "pygments_lexer": "ipython3",
   "version": "3.10.4"
  }
 },
 "nbformat": 4,
 "nbformat_minor": 4
}
