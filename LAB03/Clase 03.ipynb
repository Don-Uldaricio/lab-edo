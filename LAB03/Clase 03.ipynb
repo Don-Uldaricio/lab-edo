{
 "cells": [
  {
   "cell_type": "code",
   "execution_count": 2,
   "id": "89f7c8b6",
   "metadata": {},
   "outputs": [],
   "source": [
    "from matplotlib import pyplot as plt\n",
    "import numpy as np"
   ]
  },
  {
   "cell_type": "markdown",
   "id": "32e7a9ad",
   "metadata": {},
   "source": [
    "## Métodos numéricos\n",
    "\n",
    "Cuando trabajamos con métodos numéricos en la resolución de ecuaciones diferenciales, el objetivo es encontrar un conjunto de valores que se aproximen una solución particular de la ecuación diferencial propuesta.\n",
    "\n",
    "Existen diferentes algoritmos que permiten implementar estos métodos numéricos, algunos más certeros que otros, y por tanto es posible (en ocasiones) estimar el error y decidir qué método emplear en cada etapa de la busqueda de una buena aproximación de la solución.\n",
    "\n",
    "Los métodos que se abordarán en esta parte del curso, corresponden a métodos para aproximar soluciones al problema de valores iniciales:\n",
    "\n",
    "$$ y'=f(x,y) \\quad ; \\quad y(x_0)=y_0 $$\n"
   ]
  },
  {
   "cell_type": "markdown",
   "id": "8a940c68",
   "metadata": {},
   "source": [
    "## Método de Euler\n",
    "\n",
    "Para el problema \n",
    "$$ y'=f(x,y) \\quad ; \\quad y(x_0)=y_0 $$\n",
    "el algoritmo asociado al método de Euler está dado por:\n",
    "\n",
    "Para $i=0,1, ... , n-1$ realizar <br>\n",
    "*    $ x_i = x_0+ih $ <br>\n",
    "*    $y_{i+1}= y_i +h f(x_i , y_i) $ <br>\n",
    "    \n",
    "Fin"
   ]
  },
  {
   "cell_type": "markdown",
   "id": "6b40993d",
   "metadata": {},
   "source": [
    "## Ejemplo 1\n",
    "\n",
    "Considere el problema de valores iniciales \n",
    "$$ y^2 dy - \\sqrt{3} x dx = 0 \\quad ; \\quad y(1)=2,$$\n",
    "* a) Utilice el método de Euler para encontrar una aproximación de $y(4)$ para el problema de valores iniciales utilizando $h=0,1$.\n",
    "* b) La solución al PVI está dada por $y=\\sqrt[3]{\\frac{3\\sqrt{3}}{2}x^2+8-\\frac{3\\sqrt{2}}{2}}$ (verifíquela en otra ocasión). En un mismo gráfico trace la solución aproximada y la solución explícita al PVI.\n",
    "\n",
    "* c) Calcule el error absoluto al problema.\n",
    "* d) Con los datos recabados concluya si es una buena aproximación."
   ]
  },
  {
   "cell_type": "code",
   "execution_count": 3,
   "id": "14b32b67",
   "metadata": {},
   "outputs": [
    {
     "name": "stdout",
     "output_type": "stream",
     "text": [
      "Aprox para y(1.0):2.04\n",
      "Aprox para y(1.1):2.08\n",
      "Aprox para y(1.2):2.12\n",
      "Aprox para y(1.3):2.16\n",
      "Aprox para y(1.4):2.2\n",
      "Aprox para y(1.5):2.24\n",
      "Aprox para y(1.6):2.27\n",
      "Aprox para y(1.7):2.3\n",
      "Aprox para y(1.8):2.34\n",
      "Aprox para y(1.9):2.37\n",
      "Aprox para y(2.0):2.4\n",
      "Aprox para y(2.1):2.43\n",
      "Aprox para y(2.2):2.46\n",
      "Aprox para y(2.3):2.49\n",
      "Aprox para y(2.4):2.52\n",
      "Aprox para y(2.5):2.54\n",
      "Aprox para y(2.6):2.57\n",
      "Aprox para y(2.7):2.6\n",
      "Aprox para y(2.8):2.62\n",
      "Aprox para y(2.9):2.65\n",
      "Aprox para y(3.0):2.67\n",
      "Aprox para y(3.1):2.7\n",
      "Aprox para y(3.2):2.72\n",
      "Aprox para y(3.3):2.74\n",
      "Aprox para y(3.4):2.77\n",
      "Aprox para y(3.5):2.79\n",
      "Aprox para y(3.6):2.81\n",
      "Aprox para y(3.7):2.83\n",
      "Aprox para y(3.8):2.85\n",
      "Aprox para y(3.9):2.88\n",
      "Aprox para y(4.0):2.9\n"
     ]
    },
    {
     "data": {
      "text/plain": [
       "[<matplotlib.lines.Line2D at 0x7f503d3841f0>]"
      ]
     },
     "execution_count": 3,
     "metadata": {},
     "output_type": "execute_result"
    },
    {
     "data": {
      "image/png": "[encoded data removed]",
      "text/plain": [
       "<Figure size 640x480 with 1 Axes>"
      ]
     },
     "metadata": {},
     "output_type": "display_data"
    }
   ],
   "source": [
    "x0 = 1\n",
    "y0 = 2\n",
    "xn = 4\n",
    "h = 0.1\n",
    "n = (xn - x0)/h\n",
    "xlist = []\n",
    "ylist = []\n",
    "\n",
    "for i in range(int(n+1)):\n",
    "    x = x0 + i*h\n",
    "    f = np.sqrt(3)*x0/(y0**2)\n",
    "    y0 = y0 + h*f\n",
    "    xlist.append(x)\n",
    "    ylist.append(y0)\n",
    "    print(\"Aprox para y(\" + str(round(x,1)) + \"):\" + str(round(y0,2)))\n",
    "\n",
    "X = np.linspace(1,4,15)\n",
    "y = ((3*np.sqrt(3))*(X**2)/2 + 8 - 3*np.sqrt(2)/2)**(1/3)\n",
    "plt.grid()\n",
    "plt.plot(X,y)\n",
    "plt.plot(xlist,ylist)"
   ]
  },
  {
   "cell_type": "markdown",
   "id": "84981bd7",
   "metadata": {},
   "source": [
    "## Ejemplo 2\n",
    "\n",
    "* a) Defina una función en Python que permita encontrar una aproximación de $y(x_n)$ para el problema de valores iniciales general\n",
    "\n",
    "$$ y'(x)=f(x,y) \\quad , \\quad y(x_0)=y_0$$\n",
    "\n",
    "dados los datos de entrada $f(x,y), x_0, x_n, y_0, n$ (o $h$ en su defecto)\n",
    "\n",
    "* b) Utilice la función anterior para encontrar una aproximación de $y(0,5)$ al PVI\n",
    "\n",
    "$$ y'(x)=2xy^2 \\quad , \\quad y(0)=1$$ para ello utilice \n",
    "$h=0,1$ y $h=0,01$"
   ]
  },
  {
   "cell_type": "code",
   "execution_count": 5,
   "id": "8b6142a4",
   "metadata": {},
   "outputs": [
    {
     "name": "stdout",
     "output_type": "stream",
     "text": [
      "Aprox para y(0.0):1.0\n",
      "Aprox para y(0.1):1.02\n",
      "Aprox para y(0.2):1.06\n",
      "Aprox para y(0.3):1.13\n",
      "Aprox para y(0.4):1.23\n",
      "Aprox para y(0.5):1.38\n"
     ]
    }
   ],
   "source": [
    "x = np.linspace(-5,5,15)\n",
    "def funcion(x, y):\n",
    "    return 2*x*(y**2)\n",
    "\n",
    "def aproxEuler(f,x0,xn,y0,h):\n",
    "    n = (xn - x0)/h\n",
    "    for i in range(int(n+1)):\n",
    "        x = x0 + i*h\n",
    "        y0 = y0 + h*f(x, y0)\n",
    "        print(\"Aprox para y(\" + str(round(x,1)) + \"):\" + str(round(y0,2)))\n",
    "        \n",
    "aproxEuler(funcion, 0, 0.5,1,0.1)\n",
    "        "
   ]
  },
  {
   "cell_type": "markdown",
   "id": "a81cfc34",
   "metadata": {},
   "source": [
    "En adición, si se desea utilizar las aproximaciones para confeccionar un gráfico, es posible utilizar un diccionario."
   ]
  },
  {
   "cell_type": "code",
   "execution_count": null,
   "id": "ef452e6a",
   "metadata": {},
   "outputs": [],
   "source": []
  },
  {
   "cell_type": "markdown",
   "id": "a04e0648",
   "metadata": {},
   "source": [
    "## Ejercicios adicionales\n",
    "\n",
    "* a) Considere el PVI\n",
    "$$ y'(t) = \\frac{y}{t} - \\left( \\frac{y}{t} \\right)^2 \\quad ; \\quad y(1)=1 $$\n",
    "encuentre una aproximación de $y(5)$ vía método de Euler, considerando\n",
    "    + $h=1$ \n",
    "    + $h=0,5$\n",
    "    \n",
    "* b) Verifique que $y(t) = \\dfrac{1}{1+\\ln|t|}$ es solución al PVI propuesto.\n",
    "* c) Grafique las aproximaciones de la solución y la solución explícita al problema en un mismo gráfico. Personalice el gráfico y las curvas a su elección. Intuitivamente ¿es una buena aproximación al problema?\n",
    "* d) Calcule el error absoluto.\n",
    "* e) Elabore un algoritmo que permita calcular el error global de sus aproximaciones."
   ]
  },
  {
   "cell_type": "code",
   "execution_count": null,
   "id": "1db68466",
   "metadata": {},
   "outputs": [],
   "source": []
  }
 ],
 "metadata": {
  "kernelspec": {
   "display_name": "Python 3 (ipykernel)",
   "language": "python",
   "name": "python3"
  },
  "language_info": {
   "codemirror_mode": {
    "name": "ipython",
    "version": 3
   },
   "file_extension": ".py",
   "mimetype": "text/x-python",
   "name": "python",
   "nbconvert_exporter": "python",
   "pygments_lexer": "ipython3",
   "version": "3.10.4"
  }
 },
 "nbformat": 4,
 "nbformat_minor": 5
}
